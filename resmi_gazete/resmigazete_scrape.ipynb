{
 "cells": [
  {
   "cell_type": "code",
   "execution_count": 1,
   "metadata": {},
   "outputs": [],
   "source": [
    "# Note, Issues with .htm extension starts from https://www.resmigazete.gov.tr/eskiler/2000/06/20000627.htm\n",
    "# From the first issue to https://www.resmigazete.gov.tr/eskiler/2005/01/20050102.htm, inside links direct to footers in page.\n",
    "# Example: https://www.resmigazete.gov.tr/eskiler/2004/12/20041231.htm#1 etc.\n",
    "# After this issue, inside links direct to separate pages https://www.resmigazete.gov.tr/eskiler/2005/01/20050102-1.htm etc.\n",
    "\n",
    "\n",
    "\n",
    "# Until there, the URL style is https://www.resmigazete.gov.tr/arsiv/23894.pdf where the last number indicates Issue number\n",
    "# The first issue is https://www.resmigazete.gov.tr/arsiv/1.pdf , in Arabic\n",
    "# The first Turkish issue is https://www.resmigazete.gov.tr/arsiv/1054.pdf \n",
    "\n",
    "\n",
    "# Most of the content is in \"a\" or \"p\" attribute. Some instances also have \"h1\" attribute for the first title. (shown in 20 Feb 2006)"
   ]
  },
  {
   "cell_type": "markdown",
   "metadata": {},
   "source": [
    "## Working note\n",
    "\n",
    "Before I use the loop, I am trying to understand how to parse efficiently and effectively. The problem is, subclasses are not explicative in html. There are differences throughout the years. Provided links for the contents might be a footer or a redirection. Here are the examples.\n",
    "\n",
    "Update: To select example dates, adjust the attributes as shown below."
   ]
  },
  {
   "cell_type": "markdown",
   "metadata": {},
   "source": [
    "### Xpaths from sample dates"
   ]
  },
  {
   "cell_type": "code",
   "execution_count": 2,
   "metadata": {},
   "outputs": [],
   "source": [
    "# Scraper class is migrated to resmigazete_module.py \n",
    "# Example usage is shown below\n",
    "\n",
    "from resmigazete_module import ResmiGazeteScraper\n",
    "\n"
   ]
  },
  {
   "cell_type": "code",
   "execution_count": 3,
   "metadata": {
    "scrolled": true
   },
   "outputs": [
    {
     "name": "stdout",
     "output_type": "stream",
     "text": [
      "https://www.resmigazete.gov.tr/eskiler/2000/06/20000626.htm: Status code 404\n",
      "Content saved to resmigazete_all/XPaths_resmigazete_2000.txt\n"
     ]
    }
   ],
   "source": [
    "\n",
    "# 2000 test\n",
    "scraper = ResmiGazeteScraper(year=2000)\n",
    "scraper.months =[f\"{month:02d}\" for month in range(6, 13)]\n",
    "scraper.days =[f\"{day:02d}\" for day in range(26, 27)]\n",
    "scraper.scrape()\n",
    "scraper.save_content_to_file()\n",
    "\n",
    "\n"
   ]
  },
  {
   "cell_type": "code",
   "execution_count": 4,
   "metadata": {},
   "outputs": [
    {
     "name": "stdout",
     "output_type": "stream",
     "text": [
      "Content saved to resmigazete_all/XPaths_resmigazete_2007.txt\n"
     ]
    }
   ],
   "source": [
    "\n",
    "# 2007 test\n",
    "scraper = ResmiGazeteScraper(year=2007)\n",
    "scraper.months =[f\"{month:02d}\" for month in range(5, 9)]\n",
    "scraper.days =[f\"{day:02d}\" for day in range(26, 27)]\n",
    "scraper.scrape()\n",
    "scraper.save_content_to_file()"
   ]
  },
  {
   "cell_type": "code",
   "execution_count": null,
   "metadata": {},
   "outputs": [],
   "source": []
  }
 ],
 "metadata": {
  "kernelspec": {
   "display_name": "Python 3 (ipykernel)",
   "language": "python",
   "name": "python3"
  },
  "language_info": {
   "codemirror_mode": {
    "name": "ipython",
    "version": 3
   },
   "file_extension": ".py",
   "mimetype": "text/x-python",
   "name": "python",
   "nbconvert_exporter": "python",
   "pygments_lexer": "ipython3",
   "version": "3.10.6"
  }
 },
 "nbformat": 4,
 "nbformat_minor": 4
}
