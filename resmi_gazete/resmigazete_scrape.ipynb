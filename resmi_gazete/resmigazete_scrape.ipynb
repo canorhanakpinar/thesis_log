{
 "cells": [
  {
   "cell_type": "markdown",
   "metadata": {},
   "source": [
    "## Working note\n",
    "\n",
    "\n",
    "Update: Get any year's headlines with a list of months and days and save as excel"
   ]
  },
  {
   "cell_type": "code",
   "execution_count": 1,
   "metadata": {},
   "outputs": [],
   "source": [
    "# Get only headlines with the links for access\n",
    "\n",
    "# Use year variable to select year, months and days are optional or get all dates\n",
    "\n",
    "# Note, Issues with .htm extension starts from https://www.resmigazete.gov.tr/eskiler/2000/06/20000627.htm\n",
    "# From the first issue to https://www.resmigazete.gov.tr/eskiler/2005/01/20050102.htm, inside links direct to footers in page.\n",
    "# Example: https://www.resmigazete.gov.tr/eskiler/2004/12/20041231.htm#1 etc.\n",
    "# After this issue, inside links direct to separate pages https://www.resmigazete.gov.tr/eskiler/2005/01/20050102-1.htm etc.\n",
    "\n",
    "\n",
    "\n",
    "# Until there, the URL style is https://www.resmigazete.gov.tr/arsiv/23894.pdf where the last number indicates Issue number\n",
    "# The first issue is https://www.resmigazete.gov.tr/arsiv/1.pdf , in Arabic\n",
    "# The first Turkish issue is https://www.resmigazete.gov.tr/arsiv/1054.pdf \n"
   ]
  },
  {
   "cell_type": "markdown",
   "metadata": {},
   "source": [
    "### Titles of Resmi Gazete"
   ]
  },
  {
   "cell_type": "code",
   "execution_count": 4,
   "metadata": {},
   "outputs": [],
   "source": [
    "\n",
    "\n",
    "from resmigazete_module import ResmiGazeteScraper\n",
    "\n"
   ]
  },
  {
   "cell_type": "code",
   "execution_count": null,
   "metadata": {},
   "outputs": [],
   "source": [
    "# Integrated Scraper-Parser\n",
    "scraper = ResmiGazeteScraper(year=2024)\n",
    "scraper.months =[f\"{month:02d}\" for month in range(7, 8)]\n",
    "scraper.days =[f\"{day:02d}\" for day in range(7, 31)]\n",
    "scraper.scrape(\"a\")\n",
    "scraper.parse_to_dataframe()\n",
    "scraper.save_to_excel()"
   ]
  },
  {
   "cell_type": "code",
   "execution_count": null,
   "metadata": {},
   "outputs": [],
   "source": [
    "scraper = ResmiGazeteScraper(year=2014)\n",
    "scraper.update_hyperlinks('resmigazete_all/titles_resmigazete_2014.xlsx', '2014-01-01', '2014-01-01')"
   ]
  }
 ],
 "metadata": {
  "kernelspec": {
   "display_name": "Python 3 (ipykernel)",
   "language": "python",
   "name": "python3"
  },
  "language_info": {
   "codemirror_mode": {
    "name": "ipython",
    "version": 3
   },
   "file_extension": ".py",
   "mimetype": "text/x-python",
   "name": "python",
   "nbconvert_exporter": "python",
   "pygments_lexer": "ipython3",
   "version": "3.10.6"
  }
 },
 "nbformat": 4,
 "nbformat_minor": 4
}
