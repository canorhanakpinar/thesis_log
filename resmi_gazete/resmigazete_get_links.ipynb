{
 "cells": [
  {
   "cell_type": "markdown",
   "id": "11af5a96-8c16-415b-ad9c-e4cb5adf38bf",
   "metadata": {},
   "source": [
    "### Handling Irregular XPaths\n",
    " \n",
    " As stated in resmigazete_scrape.ipynb, the structure contains irregularities.\n",
    "\n",
    " Eg. in https://www.resmigazete.gov.tr/eskiler/2007/06/20070624-1.htm, the last letter \"r\" is out of the \"a\" Tag, stored in \"p\"\n",
    " \n",
    " **Additionally, some links' text is split into different XPaths. There is an additional complexity:**\n",
    "\n",
    " _Eg. in https://www.resmigazete.gov.tr/eskiler/2000/07/20000727.htm#8, the text is separated into two XPaths. Which is_ \n",
    " - /html[1]/body[1]/font[1]/font[3]/font[4]/dt[1]/a[1] : \"....Eğitim-Öğretim Yönetmeliğinin\"\n",
    " - /html[1]/body[1]/font[1]/a[1] : \"2 nci ve 21 inci Maddelerinde Değişiklik...\"\n",
    "\n",
    " \n",
    "_Concatenation with space is also problematic, for some words are also separated into different XPaths. Eg. https://www.resmigazete.gov.tr/eskiler/2000/07/20000727.htm#4_\n",
    " - /html[1]/body[1]/font[1]/font[3]/font[2]/div[1]/dt[1]/a[1] : \"S\"\n",
    " - /html[1]/body[1]/font[1]/font[3]/font[2]/div[1]/dt[1]/a[2] : \"utopu Müsabaka Yönetmeliğinde...\"\n",
    "\n"
   ]
  },
  {
   "cell_type": "code",
   "execution_count": 14,
   "id": "eba9d8f2-1cc6-4bd2-ac58-c02921756731",
   "metadata": {},
   "outputs": [],
   "source": [
    "import pandas as pd\n",
    "import re\n",
    "\n",
    "file_path = 'XPaths_resmigazete.txt'\n",
    "\n",
    "data = []\n",
    "current_entry = None\n",
    "\n",
    "# Read the file line by line and parse each line\n",
    "with open(file_path, 'r', encoding='utf-8') as file:\n",
    "    for line in file:\n",
    "        if 'Link:' in line:\n",
    "            # Split the line into components based on the format, catching key parts\n",
    "            parts = re.split(r', (?=\\b(?:URL|XPath|Tag|Text|Link)\\b)', line.strip())\n",
    "            entry = {}\n",
    "            for part in parts:\n",
    "                if ': ' in part:\n",
    "                    key, value = part.split(': ', 1)\n",
    "                    entry[key.strip()] = value.strip()\n",
    "\n",
    "            # Check if the current entry should be appended to or started new\n",
    "            if current_entry and current_entry['Link'] == entry['Link']:\n",
    "                # Same link, append text\n",
    "                current_entry['Text'] += \"\" + entry['Text']\n",
    "            else:\n",
    "                # New link, save old entry if it exists and start a new one\n",
    "                if current_entry:\n",
    "                    data.append(current_entry)\n",
    "                current_entry = entry\n",
    "\n",
    "# Add the last entry if not already added\n",
    "if current_entry:\n",
    "    data.append(current_entry)\n",
    "\n",
    "# Convert the list of dictionaries to a DataFrame\n",
    "df = pd.DataFrame(data)\n",
    "\n",
    "# Ensure to capture only the necessary columns if you want to be specific\n",
    "df_filtered = df[['URL', 'XPath', 'Tag', 'Text', 'Link']]\n",
    "\n",
    "# Optionally, save this filtered DataFrame to a new CSV file\n",
    "df_filtered.to_csv('resmigazete_linked_XPaths.csv', index=False)\n"
   ]
  },
  {
   "cell_type": "code",
   "execution_count": null,
   "id": "bc2de7a1-c144-421c-a02b-8f9e99fd943b",
   "metadata": {},
   "outputs": [],
   "source": []
  }
 ],
 "metadata": {
  "kernelspec": {
   "display_name": "Python 3 (ipykernel)",
   "language": "python",
   "name": "python3"
  },
  "language_info": {
   "codemirror_mode": {
    "name": "ipython",
    "version": 3
   },
   "file_extension": ".py",
   "mimetype": "text/x-python",
   "name": "python",
   "nbconvert_exporter": "python",
   "pygments_lexer": "ipython3",
   "version": "3.10.6"
  }
 },
 "nbformat": 4,
 "nbformat_minor": 5
}
