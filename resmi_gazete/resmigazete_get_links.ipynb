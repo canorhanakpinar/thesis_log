{
 "cells": [
  {
   "cell_type": "markdown",
   "id": "11af5a96-8c16-415b-ad9c-e4cb5adf38bf",
   "metadata": {},
   "source": [
    "### Handling Irregular XPaths\n",
    " \n",
    " As stated in resmigazete_scrape.ipynb, the structure contains irregularities.\n",
    "\n",
    " Eg. in https://www.resmigazete.gov.tr/eskiler/2007/06/20070624-1.htm, the last letter \"r\" is out of the \"a\" Tag, stored in \"p\"\n",
    " \n",
    " **Additionally, some links' text is split into different XPaths. There is an additional complexity:**\n",
    "\n",
    " _Eg. in https://www.resmigazete.gov.tr/eskiler/2000/07/20000727.htm#8, the text is separated into two XPaths. Which is_ \n",
    " - /html[1]/body[1]/font[1]/font[3]/font[4]/dt[1]/a[1] : \"....Eğitim-Öğretim Yönetmeliğinin\"\n",
    " - /html[1]/body[1]/font[1]/a[1] : \"2 nci ve 21 inci Maddelerinde Değişiklik...\"\n",
    "\n",
    " \n",
    "_Concatenation with space is also problematic, for some words are also separated into different XPaths. Eg. https://www.resmigazete.gov.tr/eskiler/2000/07/20000727.htm#4_\n",
    " - /html[1]/body[1]/font[1]/font[3]/font[2]/div[1]/dt[1]/a[1] : \"S\"\n",
    " - /html[1]/body[1]/font[1]/font[3]/font[2]/div[1]/dt[1]/a[2] : \"utopu Müsabaka Yönetmeliğinde...\"\n",
    "\n"
   ]
  },
  {
   "cell_type": "markdown",
   "id": "5c10ac76-5a4d-400f-9099-a6db120f289e",
   "metadata": {},
   "source": [
    "#### Test the parser for selected years"
   ]
  },
  {
   "cell_type": "code",
   "execution_count": 1,
   "id": "6f6a5715-7e57-42a8-aaf6-f88888154cd2",
   "metadata": {},
   "outputs": [],
   "source": [
    "# Parser class is migrated to resmigazete_module.py\n",
    "# Example usage is shown below\n",
    "\n",
    "from resmigazete_module import ResmiGazeteLinkParser"
   ]
  },
  {
   "cell_type": "code",
   "execution_count": 2,
   "id": "bc2de7a1-c144-421c-a02b-8f9e99fd943b",
   "metadata": {
    "scrolled": true
   },
   "outputs": [
    {
     "name": "stdout",
     "output_type": "stream",
     "text": [
      "Data saved to resmigazete_all/links_resmigazete_2000.json\n",
      "          Date                                              XPath Tag  \\\n",
      "7   2000-07-26  /html[1]/body[1]/font[1]/font[4]/font[1]/font[...   a   \n",
      "8   2000-07-26  /html[1]/body[1]/font[1]/font[4]/font[1]/dt[1]...   a   \n",
      "9   2000-07-26  /html[1]/body[1]/font[1]/font[4]/font[1]/font[...   a   \n",
      "10  2000-07-26  /html[1]/body[1]/font[1]/font[4]/font[1]/font[...   a   \n",
      "11  2000-07-26  /html[1]/body[1]/font[1]/font[4]/font[1]/font[...   a   \n",
      "12  2000-07-26  /html[1]/body[1]/font[1]/font[4]/font[1]/font[...   a   \n",
      "13  2000-07-26  /html[1]/body[1]/font[1]/font[4]/font[1]/font[...   a   \n",
      "14  2000-07-26  /html[1]/body[1]/font[1]/font[4]/font[1]/font[...   a   \n",
      "\n",
      "                                                 Link  \\\n",
      "7   https://www.resmigazete.gov.tr/eskiler/2000/07...   \n",
      "8   https://www.resmigazete.gov.tr/eskiler/2000/07...   \n",
      "9   https://www.resmigazete.gov.tr/eskiler/2000/07...   \n",
      "10  https://www.resmigazete.gov.tr/eskiler/2000/07...   \n",
      "11  https://www.resmigazete.gov.tr/eskiler/2000/07...   \n",
      "12  https://www.resmigazete.gov.tr/eskiler/2000/07...   \n",
      "13  https://www.resmigazete.gov.tr/eskiler/2000/07...   \n",
      "14  https://www.resmigazete.gov.tr/eskiler/2000/07...   \n",
      "\n",
      "                                                 Text  Legal Category  \\\n",
      "7   — Milletvekillerine, Yasama Organı Eski Üyeler...  This is empty.   \n",
      "8   — Milletvekillerine, Yasama Organı Eski Üyeler...  This is empty.   \n",
      "9   — Belirli Üçüncü Ülkelerde İşlem Gördükten Son...  This is empty.   \n",
      "10  — Gelir İdaresini Geliştirme Fonu Yönetmeliğin...  This is empty.   \n",
      "11  — Milli EğitimBakanlığı Personeli Görevde Yüks...  This is empty.   \n",
      "12  — Doğal Kaynak, Maden ve İçme Suları ile Tıbbi...  This is empty.   \n",
      "13  — Van İlinin Mücavir İller Kapsamına Alınmasın...  This is empty.   \n",
      "14  — Kimyevi Gübre Denetimleri Sırasında Alınacak...  This is empty.   \n",
      "\n",
      "           Summary      Hyperlinks           Note1           Note2  \\\n",
      "7   This is empty.  This is empty.  This is empty.  This is empty.   \n",
      "8   This is empty.  This is empty.  This is empty.  This is empty.   \n",
      "9   This is empty.  This is empty.  This is empty.  This is empty.   \n",
      "10  This is empty.  This is empty.  This is empty.  This is empty.   \n",
      "11  This is empty.  This is empty.  This is empty.  This is empty.   \n",
      "12  This is empty.  This is empty.  This is empty.  This is empty.   \n",
      "13  This is empty.  This is empty.  This is empty.  This is empty.   \n",
      "14  This is empty.  This is empty.  This is empty.  This is empty.   \n",
      "\n",
      "             Note3           Note4           Note5           Note6  \n",
      "7   This is empty.  This is empty.  This is empty.  This is empty.  \n",
      "8   This is empty.  This is empty.  This is empty.  This is empty.  \n",
      "9   This is empty.  This is empty.  This is empty.  This is empty.  \n",
      "10  This is empty.  This is empty.  This is empty.  This is empty.  \n",
      "11  This is empty.  This is empty.  This is empty.  This is empty.  \n",
      "12  This is empty.  This is empty.  This is empty.  This is empty.  \n",
      "13  This is empty.  This is empty.  This is empty.  This is empty.  \n",
      "14  This is empty.  This is empty.  This is empty.  This is empty.  \n"
     ]
    }
   ],
   "source": [
    "\n",
    "# Example Usage\n",
    "parser_test2000 = ResmiGazeteLinkParser(year=2000)\n",
    "parser_test2000.parse_file()\n",
    "parser_test2000.save_to_json()\n",
    "\n",
    "file_path = 'resmigazete_all/links_resmigazete_2000.json'\n",
    "\n",
    "import pandas as pd\n",
    "# Load the JSON data into a DataFrame\n",
    "df = pd.read_json(file_path, lines=True, dtype={'Date': str})\n",
    "\n",
    "# Print a slice\n",
    "print(df.iloc[7:15])  \n",
    "\n"
   ]
  },
  {
   "cell_type": "code",
   "execution_count": 3,
   "id": "2657bd44-aa8f-4eff-b37c-b2d97589b7b8",
   "metadata": {},
   "outputs": [
    {
     "name": "stdout",
     "output_type": "stream",
     "text": [
      "Data saved to resmigazete_all/links_resmigazete_2007.json\n",
      "          Date                                              XPath Tag  \\\n",
      "7   2007-05-26  /html[1]/body[1]/table[1]/tr[1]/td[1]/p[11]/sp...   a   \n",
      "8   2007-05-26  /html[1]/body[1]/table[1]/tr[1]/td[1]/p[12]/sp...   a   \n",
      "9   2007-05-26  /html[1]/body[1]/table[1]/tr[1]/td[1]/p[15]/sp...   a   \n",
      "10  2007-05-26  /html[1]/body[1]/table[1]/tr[1]/td[1]/p[16]/sp...   a   \n",
      "11  2007-05-26  /html[1]/body[1]/table[1]/tr[1]/td[1]/p[19]/sp...   a   \n",
      "12  2007-05-26  /html[1]/body[1]/table[1]/tr[1]/td[1]/p[24]/sp...   a   \n",
      "13  2007-05-26  /html[1]/body[1]/table[1]/tr[1]/td[1]/p[26]/fo...   a   \n",
      "14  2007-06-26  /html[1]/body[1]/table[1]/tr[1]/td[1]/table[2]...   a   \n",
      "\n",
      "                                                 Link  \\\n",
      "7   https://www.resmigazete.gov.tr/eskiler/2007/05...   \n",
      "8   https://www.resmigazete.gov.tr/eskiler/2007/05...   \n",
      "9   https://www.resmigazete.gov.tr/eskiler/2007/05...   \n",
      "10  https://www.resmigazete.gov.tr/eskiler/2007/05...   \n",
      "11  https://www.resmigazete.gov.tr/eskiler/2007/05...   \n",
      "12  https://www.resmigazete.gov.tr/eskiler/2007/05...   \n",
      "13  http://www.resmigazete.gov.tr/eskiler/2007/05/...   \n",
      "14  http://www.resmigazete.gov.tr/eskiler/2007/06/...   \n",
      "\n",
      "                                                 Text  Legal Category  \\\n",
      "7   — Petrol Piyasası Lisans Yönetmeliğinde Değişi...  This is empty.   \n",
      "8   — Bahçeşehir Üniversitesi Akdeniz Araştırmalar...  This is empty.   \n",
      "9   — Tedavi Ücretleri ile İlgili 2007/13 sayılı B...  This is empty.   \n",
      "10  — Kılık ve Kıyafet ile İlgili 2007/14 sayılı B...  This is empty.   \n",
      "11  — Yatırımların ve istihdamın Teşviki Genel Teb...  This is empty.   \n",
      "12  — Anayasa Mahkemesinin E: 2003/92, K: 2007/25 ...  This is empty.   \n",
      "13                                         Tıklayınız  This is empty.   \n",
      "14                                                  Å  This is empty.   \n",
      "\n",
      "           Summary      Hyperlinks           Note1           Note2  \\\n",
      "7   This is empty.  This is empty.  This is empty.  This is empty.   \n",
      "8   This is empty.  This is empty.  This is empty.  This is empty.   \n",
      "9   This is empty.  This is empty.  This is empty.  This is empty.   \n",
      "10  This is empty.  This is empty.  This is empty.  This is empty.   \n",
      "11  This is empty.  This is empty.  This is empty.  This is empty.   \n",
      "12  This is empty.  This is empty.  This is empty.  This is empty.   \n",
      "13  This is empty.  This is empty.  This is empty.  This is empty.   \n",
      "14  This is empty.  This is empty.  This is empty.  This is empty.   \n",
      "\n",
      "             Note3           Note4           Note5           Note6  \n",
      "7   This is empty.  This is empty.  This is empty.  This is empty.  \n",
      "8   This is empty.  This is empty.  This is empty.  This is empty.  \n",
      "9   This is empty.  This is empty.  This is empty.  This is empty.  \n",
      "10  This is empty.  This is empty.  This is empty.  This is empty.  \n",
      "11  This is empty.  This is empty.  This is empty.  This is empty.  \n",
      "12  This is empty.  This is empty.  This is empty.  This is empty.  \n",
      "13  This is empty.  This is empty.  This is empty.  This is empty.  \n",
      "14  This is empty.  This is empty.  This is empty.  This is empty.  \n"
     ]
    }
   ],
   "source": [
    "\n",
    "# Example Usage\n",
    "parser_test2007 = ResmiGazeteLinkParser(year=2007)\n",
    "parser_test2007.parse_file()\n",
    "parser_test2007.save_to_json()\n",
    "\n",
    "file_path = 'resmigazete_all/links_resmigazete_2007.json'\n",
    "\n",
    "import pandas as pd\n",
    "# Load the JSON data into a DataFrame\n",
    "df = pd.read_json(file_path, lines=True, dtype={'Date': str})\n",
    "\n",
    "# Print a slice\n",
    "print(df.iloc[7:15]) "
   ]
  },
  {
   "cell_type": "code",
   "execution_count": null,
   "id": "8d55ce0b-6875-43b6-ad3e-061fd3c6cd60",
   "metadata": {},
   "outputs": [],
   "source": []
  }
 ],
 "metadata": {
  "kernelspec": {
   "display_name": "Python 3 (ipykernel)",
   "language": "python",
   "name": "python3"
  },
  "language_info": {
   "codemirror_mode": {
    "name": "ipython",
    "version": 3
   },
   "file_extension": ".py",
   "mimetype": "text/x-python",
   "name": "python",
   "nbconvert_exporter": "python",
   "pygments_lexer": "ipython3",
   "version": "3.10.6"
  }
 },
 "nbformat": 4,
 "nbformat_minor": 5
}
